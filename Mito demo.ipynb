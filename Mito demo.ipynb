{
 "cells": [
  {
   "cell_type": "code",
   "execution_count": 1,
   "metadata": {},
   "outputs": [
    {
     "data": {
      "application/vnd.jupyter.widget-view+json": {
       "model_id": "b500a9e9c88c437ba8e9f85aa5d2a50e",
       "version_major": 2,
       "version_minor": 0
      },
      "text/plain": [
       "MitoWidget(analysis_name='UUID-5a65b2ec-4ba4-4a90-abfa-7f3cf7585e3c', code_json='{\"imports\": \"from mitosheet i…"
      ]
     },
     "metadata": {},
     "output_type": "display_data"
    }
   ],
   "source": [
    "import mitosheet\n",
    "\n",
    "mitosheet.sheet()"
   ]
  },
  {
   "cell_type": "code",
   "execution_count": null,
   "metadata": {},
   "outputs": [],
   "source": [
    "# MITO CODE START (DO NOT EDIT)\n",
    "\n",
    "from mitosheet import * # Import necessary functions from Mito\n",
    "register_analysis('UUID-5a65b2ec-4ba4-4a90-abfa-7f3cf7585e3c') # Let Mito know which analysis is being run\n",
    "\n",
    "# Imported /Users/geovanni/Desktop/jupyter/data/titanic_train.csv\n",
    "import pandas as pd\n",
    "titanic_train_csv = pd.read_csv('/Users/geovanni/Desktop/jupyter/data/titanic_train.csv')\n",
    "\n",
    "# Added column M to titanic_train_csv\n",
    "titanic_train_csv.insert(10, 'M', 0)\n",
    "\n",
    "# Renamed M to test in titanic_train_csv\n",
    "titanic_train_csv.rename(columns={\"M\": \"test\"}, inplace=True)\n",
    "\n",
    "# Set test in titanic_train_csv to =IF(Fare > 50.0, 1, 0)\n",
    "titanic_train_csv['test'] = IF(titanic_train_csv['Fare'] > 50.0, 1, 0)\n",
    "\n",
    "  \n",
    "# MITO CODE END (DO NOT EDIT)"
   ]
  },
  {
   "cell_type": "code",
   "execution_count": null,
   "metadata": {},
   "outputs": [],
   "source": []
  },
  {
   "cell_type": "code",
   "execution_count": null,
   "metadata": {},
   "outputs": [],
   "source": []
  },
  {
   "cell_type": "code",
   "execution_count": null,
   "metadata": {},
   "outputs": [],
   "source": []
  },
  {
   "cell_type": "code",
   "execution_count": null,
   "metadata": {},
   "outputs": [],
   "source": []
  }
 ],
 "metadata": {
  "kernelspec": {
   "display_name": "Python 3",
   "language": "python",
   "name": "python3"
  },
  "language_info": {
   "codemirror_mode": {
    "name": "ipython",
    "version": 3
   },
   "file_extension": ".py",
   "mimetype": "text/x-python",
   "name": "python",
   "nbconvert_exporter": "python",
   "pygments_lexer": "ipython3",
   "version": "3.6.8"
  }
 },
 "nbformat": 4,
 "nbformat_minor": 4
}
