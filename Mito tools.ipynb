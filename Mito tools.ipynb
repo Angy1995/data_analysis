{
 "cells": [
  {
   "cell_type": "code",
   "execution_count": 1,
   "metadata": {},
   "outputs": [
    {
     "name": "stdout",
     "output_type": "stream",
     "text": [
      "Looking in indexes: https://pypi.tuna.tsinghua.edu.cn/simple\n",
      "Collecting mitosheet\n",
      "\u001b[?25l  Downloading https://pypi.tuna.tsinghua.edu.cn/packages/86/d4/bfcb47ad06fa81f2798b672b657ddd43ede83487c3b8a4bec4baaf77c626/mitosheet-0.1.302-py2.py3-none-any.whl (440kB)\n",
      "\u001b[K     |████████████████████████████████| 450kB 502kB/s eta 0:00:01\n",
      "\u001b[?25hRequirement already satisfied: pandas>=1.1.0 in /Users/geovanni/anaconda3/lib/python3.6/site-packages (from mitosheet) (1.1.5)\n",
      "Requirement already satisfied: ipywidgets>=7.0.0 in /Users/geovanni/anaconda3/lib/python3.6/site-packages (from mitosheet) (7.5.1)\n",
      "Collecting analytics-python (from mitosheet)\n",
      "  Downloading https://pypi.tuna.tsinghua.edu.cn/packages/ce/d8/f6e254164bdff3431273b8a41fb2e87f9b996e7923bd1e560b40f7c71c6f/analytics_python-1.4.0-py2.py3-none-any.whl\n",
      "Collecting jupyterlab!=2.3.0,!=2.3.1,<3.0,>=2.0 (from mitosheet)\n",
      "\u001b[?25l  Downloading https://pypi.tuna.tsinghua.edu.cn/packages/31/7b/cd66f306c31a84a53c6a3a86e296586e8664f407a6ac5b7cfe6a433aa8c4/jupyterlab-2.2.9-py3-none-any.whl (7.9MB)\n",
      "\u001b[K     |████████████████████████████████| 7.9MB 12.2MB/s eta 0:00:01\n",
      "\u001b[?25hCollecting plotly==4.14.3 (from mitosheet)\n",
      "\u001b[?25l  Downloading https://pypi.tuna.tsinghua.edu.cn/packages/1f/f6/bd3c17c8003b6641df1228e80e1acac97ed8402635e46c2571f8e1ef63af/plotly-4.14.3-py2.py3-none-any.whl (13.2MB)\n",
      "\u001b[K     |████████████████████████████████| 13.2MB 1.2MB/s eta 0:00:01     |██████████████████              | 7.4MB 1.2MB/s eta 0:00:05     |██████████████████████▊         | 9.3MB 1.2MB/s eta 0:00:04\n",
      "\u001b[?25hRequirement already satisfied: python-dateutil>=2.7.3 in /Users/geovanni/anaconda3/lib/python3.6/site-packages (from pandas>=1.1.0->mitosheet) (2.8.0)\n",
      "Requirement already satisfied: pytz>=2017.2 in /Users/geovanni/anaconda3/lib/python3.6/site-packages (from pandas>=1.1.0->mitosheet) (2019.1)\n",
      "Requirement already satisfied: numpy>=1.15.4 in /Users/geovanni/anaconda3/lib/python3.6/site-packages (from pandas>=1.1.0->mitosheet) (1.19.5)\n",
      "Requirement already satisfied: ipython>=4.0.0; python_version >= \"3.3\" in /Users/geovanni/anaconda3/lib/python3.6/site-packages (from ipywidgets>=7.0.0->mitosheet) (7.2.0)\n",
      "Requirement already satisfied: nbformat>=4.2.0 in /Users/geovanni/anaconda3/lib/python3.6/site-packages (from ipywidgets>=7.0.0->mitosheet) (4.4.0)\n",
      "Requirement already satisfied: traitlets>=4.3.1 in /Users/geovanni/anaconda3/lib/python3.6/site-packages (from ipywidgets>=7.0.0->mitosheet) (4.3.2)\n",
      "Requirement already satisfied: widgetsnbextension~=3.5.0 in /Users/geovanni/anaconda3/lib/python3.6/site-packages (from ipywidgets>=7.0.0->mitosheet) (3.5.0)\n",
      "Requirement already satisfied: ipykernel>=4.5.1 in /Users/geovanni/anaconda3/lib/python3.6/site-packages (from ipywidgets>=7.0.0->mitosheet) (5.1.1)\n",
      "Requirement already satisfied: requests<3.0,>=2.7 in /Users/geovanni/anaconda3/lib/python3.6/site-packages (from analytics-python->mitosheet) (2.26.0)\n",
      "Collecting backoff==1.10.0 (from analytics-python->mitosheet)\n",
      "  Downloading https://pypi.tuna.tsinghua.edu.cn/packages/f0/32/c5dd4f4b0746e9ec05ace2a5045c1fc375ae67ee94355344ad6c7005fd87/backoff-1.10.0-py2.py3-none-any.whl\n",
      "Requirement already satisfied: six>=1.5 in /Users/geovanni/anaconda3/lib/python3.6/site-packages (from analytics-python->mitosheet) (1.12.0)\n",
      "Collecting monotonic>=1.5 (from analytics-python->mitosheet)\n",
      "  Downloading https://pypi.tuna.tsinghua.edu.cn/packages/9a/67/7e8406a29b6c45be7af7740456f7f37025f0506ae2e05fb9009a53946860/monotonic-1.6-py2.py3-none-any.whl\n",
      "Requirement already satisfied: tornado!=6.0.0,!=6.0.1,!=6.0.2 in /Users/geovanni/anaconda3/lib/python3.6/site-packages (from jupyterlab!=2.3.0,!=2.3.1,<3.0,>=2.0->mitosheet) (6.0.3)\n",
      "Collecting jupyterlab-server<2.0,>=1.1.5 (from jupyterlab!=2.3.0,!=2.3.1,<3.0,>=2.0->mitosheet)\n",
      "  Downloading https://pypi.tuna.tsinghua.edu.cn/packages/b4/eb/560043dcd8376328f8b98869efed66ef68307278406ab99c7f63a34d4ae2/jupyterlab_server-1.2.0-py3-none-any.whl\n",
      "Requirement already satisfied: jinja2>=2.10 in /Users/geovanni/anaconda3/lib/python3.6/site-packages (from jupyterlab!=2.3.0,!=2.3.1,<3.0,>=2.0->mitosheet) (3.0.1)\n",
      "Requirement already satisfied: notebook>=4.3.1 in /Users/geovanni/anaconda3/lib/python3.6/site-packages (from jupyterlab!=2.3.0,!=2.3.1,<3.0,>=2.0->mitosheet) (6.0.0)\n",
      "Requirement already satisfied: retrying>=1.3.3 in /Users/geovanni/anaconda3/lib/python3.6/site-packages (from plotly==4.14.3->mitosheet) (1.3.3)\n",
      "Requirement already satisfied: jedi>=0.10 in /Users/geovanni/anaconda3/lib/python3.6/site-packages (from ipython>=4.0.0; python_version >= \"3.3\"->ipywidgets>=7.0.0->mitosheet) (0.13.3)\n",
      "Requirement already satisfied: pygments in /Users/geovanni/anaconda3/lib/python3.6/site-packages (from ipython>=4.0.0; python_version >= \"3.3\"->ipywidgets>=7.0.0->mitosheet) (2.4.2)\n",
      "Requirement already satisfied: pexpect; sys_platform != \"win32\" in /Users/geovanni/anaconda3/lib/python3.6/site-packages (from ipython>=4.0.0; python_version >= \"3.3\"->ipywidgets>=7.0.0->mitosheet) (4.7.0)\n",
      "Requirement already satisfied: backcall in /Users/geovanni/anaconda3/lib/python3.6/site-packages (from ipython>=4.0.0; python_version >= \"3.3\"->ipywidgets>=7.0.0->mitosheet) (0.1.0)\n",
      "Requirement already satisfied: decorator in /Users/geovanni/anaconda3/lib/python3.6/site-packages (from ipython>=4.0.0; python_version >= \"3.3\"->ipywidgets>=7.0.0->mitosheet) (4.4.0)\n",
      "Requirement already satisfied: appnope; sys_platform == \"darwin\" in /Users/geovanni/anaconda3/lib/python3.6/site-packages (from ipython>=4.0.0; python_version >= \"3.3\"->ipywidgets>=7.0.0->mitosheet) (0.1.0)\n",
      "Requirement already satisfied: prompt-toolkit<2.1.0,>=2.0.0 in /Users/geovanni/anaconda3/lib/python3.6/site-packages (from ipython>=4.0.0; python_version >= \"3.3\"->ipywidgets>=7.0.0->mitosheet) (2.0.9)\n",
      "Requirement already satisfied: pickleshare in /Users/geovanni/anaconda3/lib/python3.6/site-packages (from ipython>=4.0.0; python_version >= \"3.3\"->ipywidgets>=7.0.0->mitosheet) (0.7.5)\n",
      "Requirement already satisfied: setuptools>=18.5 in /Users/geovanni/anaconda3/lib/python3.6/site-packages (from ipython>=4.0.0; python_version >= \"3.3\"->ipywidgets>=7.0.0->mitosheet) (41.0.1)\n",
      "Requirement already satisfied: ipython_genutils in /Users/geovanni/anaconda3/lib/python3.6/site-packages (from nbformat>=4.2.0->ipywidgets>=7.0.0->mitosheet) (0.2.0)\n",
      "Requirement already satisfied: jsonschema!=2.5.0,>=2.4 in /Users/geovanni/anaconda3/lib/python3.6/site-packages (from nbformat>=4.2.0->ipywidgets>=7.0.0->mitosheet) (3.0.1)\n",
      "Requirement already satisfied: jupyter_core in /Users/geovanni/anaconda3/lib/python3.6/site-packages (from nbformat>=4.2.0->ipywidgets>=7.0.0->mitosheet) (4.7.1)\n",
      "Requirement already satisfied: jupyter-client in /Users/geovanni/anaconda3/lib/python3.6/site-packages (from ipykernel>=4.5.1->ipywidgets>=7.0.0->mitosheet) (6.2.0)\n",
      "Requirement already satisfied: certifi>=2017.4.17 in /Users/geovanni/anaconda3/lib/python3.6/site-packages (from requests<3.0,>=2.7->analytics-python->mitosheet) (2019.11.28)\n",
      "Requirement already satisfied: idna<4,>=2.5; python_version >= \"3\" in /Users/geovanni/anaconda3/lib/python3.6/site-packages (from requests<3.0,>=2.7->analytics-python->mitosheet) (2.8)\n",
      "Requirement already satisfied: urllib3<1.27,>=1.21.1 in /Users/geovanni/anaconda3/lib/python3.6/site-packages (from requests<3.0,>=2.7->analytics-python->mitosheet) (1.24.2)\n",
      "Requirement already satisfied: charset-normalizer~=2.0.0; python_version >= \"3\" in /Users/geovanni/anaconda3/lib/python3.6/site-packages (from requests<3.0,>=2.7->analytics-python->mitosheet) (2.0.3)\n",
      "Collecting json5 (from jupyterlab-server<2.0,>=1.1.5->jupyterlab!=2.3.0,!=2.3.1,<3.0,>=2.0->mitosheet)\n",
      "  Downloading https://pypi.tuna.tsinghua.edu.cn/packages/7e/8e/ebde0a31c71e7098b3014faf46c80bdbcadb3c23b0ac7c7646b2af7d302e/json5-0.9.6-py2.py3-none-any.whl\n",
      "Requirement already satisfied: MarkupSafe>=2.0 in /Users/geovanni/anaconda3/lib/python3.6/site-packages (from jinja2>=2.10->jupyterlab!=2.3.0,!=2.3.1,<3.0,>=2.0->mitosheet) (2.0.1)\n",
      "Requirement already satisfied: prometheus-client in /Users/geovanni/anaconda3/lib/python3.6/site-packages (from notebook>=4.3.1->jupyterlab!=2.3.0,!=2.3.1,<3.0,>=2.0->mitosheet) (0.7.1)\n",
      "Requirement already satisfied: nbconvert in /Users/geovanni/anaconda3/lib/python3.6/site-packages (from notebook>=4.3.1->jupyterlab!=2.3.0,!=2.3.1,<3.0,>=2.0->mitosheet) (5.5.0)\n",
      "Requirement already satisfied: pyzmq>=17 in /Users/geovanni/anaconda3/lib/python3.6/site-packages (from notebook>=4.3.1->jupyterlab!=2.3.0,!=2.3.1,<3.0,>=2.0->mitosheet) (18.0.0)\n",
      "Requirement already satisfied: Send2Trash in /Users/geovanni/anaconda3/lib/python3.6/site-packages (from notebook>=4.3.1->jupyterlab!=2.3.0,!=2.3.1,<3.0,>=2.0->mitosheet) (1.5.0)\n",
      "Requirement already satisfied: terminado>=0.8.1 in /Users/geovanni/anaconda3/lib/python3.6/site-packages (from notebook>=4.3.1->jupyterlab!=2.3.0,!=2.3.1,<3.0,>=2.0->mitosheet) (0.8.2)\n",
      "Requirement already satisfied: parso>=0.3.0 in /Users/geovanni/anaconda3/lib/python3.6/site-packages (from jedi>=0.10->ipython>=4.0.0; python_version >= \"3.3\"->ipywidgets>=7.0.0->mitosheet) (0.5.0)\n",
      "Requirement already satisfied: ptyprocess>=0.5 in /Users/geovanni/anaconda3/lib/python3.6/site-packages (from pexpect; sys_platform != \"win32\"->ipython>=4.0.0; python_version >= \"3.3\"->ipywidgets>=7.0.0->mitosheet) (0.6.0)\n",
      "Requirement already satisfied: wcwidth in /Users/geovanni/anaconda3/lib/python3.6/site-packages (from prompt-toolkit<2.1.0,>=2.0.0->ipython>=4.0.0; python_version >= \"3.3\"->ipywidgets>=7.0.0->mitosheet) (0.1.7)\n",
      "Requirement already satisfied: attrs>=17.4.0 in /Users/geovanni/anaconda3/lib/python3.6/site-packages (from jsonschema!=2.5.0,>=2.4->nbformat>=4.2.0->ipywidgets>=7.0.0->mitosheet) (21.2.0)\n"
     ]
    },
    {
     "name": "stdout",
     "output_type": "stream",
     "text": [
      "Requirement already satisfied: pyrsistent>=0.14.0 in /Users/geovanni/anaconda3/lib/python3.6/site-packages (from jsonschema!=2.5.0,>=2.4->nbformat>=4.2.0->ipywidgets>=7.0.0->mitosheet) (0.14.11)\n",
      "Requirement already satisfied: nest-asyncio>=1.5 in /Users/geovanni/anaconda3/lib/python3.6/site-packages (from jupyter-client->ipykernel>=4.5.1->ipywidgets>=7.0.0->mitosheet) (1.5.1)\n",
      "Requirement already satisfied: defusedxml in /Users/geovanni/anaconda3/lib/python3.6/site-packages (from nbconvert->notebook>=4.3.1->jupyterlab!=2.3.0,!=2.3.1,<3.0,>=2.0->mitosheet) (0.6.0)\n",
      "Requirement already satisfied: bleach in /Users/geovanni/anaconda3/lib/python3.6/site-packages (from nbconvert->notebook>=4.3.1->jupyterlab!=2.3.0,!=2.3.1,<3.0,>=2.0->mitosheet) (3.1.0)\n",
      "Requirement already satisfied: pandocfilters>=1.4.1 in /Users/geovanni/anaconda3/lib/python3.6/site-packages (from nbconvert->notebook>=4.3.1->jupyterlab!=2.3.0,!=2.3.1,<3.0,>=2.0->mitosheet) (1.4.2)\n",
      "Requirement already satisfied: entrypoints>=0.2.2 in /Users/geovanni/anaconda3/lib/python3.6/site-packages (from nbconvert->notebook>=4.3.1->jupyterlab!=2.3.0,!=2.3.1,<3.0,>=2.0->mitosheet) (0.3)\n",
      "Requirement already satisfied: testpath in /Users/geovanni/anaconda3/lib/python3.6/site-packages (from nbconvert->notebook>=4.3.1->jupyterlab!=2.3.0,!=2.3.1,<3.0,>=2.0->mitosheet) (0.4.2)\n",
      "Requirement already satisfied: mistune>=0.8.1 in /Users/geovanni/anaconda3/lib/python3.6/site-packages (from nbconvert->notebook>=4.3.1->jupyterlab!=2.3.0,!=2.3.1,<3.0,>=2.0->mitosheet) (0.8.4)\n",
      "Requirement already satisfied: webencodings in /Users/geovanni/anaconda3/lib/python3.6/site-packages (from bleach->nbconvert->notebook>=4.3.1->jupyterlab!=2.3.0,!=2.3.1,<3.0,>=2.0->mitosheet) (0.5.1)\n",
      "\u001b[31mERROR: shapash 1.4.4 has requirement plotly==4.12.0, but you'll have plotly 4.14.3 which is incompatible.\u001b[0m\n",
      "Installing collected packages: backoff, monotonic, analytics-python, json5, jupyterlab-server, jupyterlab, plotly, mitosheet\n",
      "  Found existing installation: jupyterlab-server 0.2.0\n",
      "    Uninstalling jupyterlab-server-0.2.0:\n",
      "      Successfully uninstalled jupyterlab-server-0.2.0\n",
      "  Found existing installation: jupyterlab 0.35.5\n",
      "    Uninstalling jupyterlab-0.35.5:\n",
      "      Successfully uninstalled jupyterlab-0.35.5\n",
      "  Found existing installation: plotly 4.12.0\n",
      "    Uninstalling plotly-4.12.0:\n",
      "      Successfully uninstalled plotly-4.12.0\n",
      "Successfully installed analytics-python-1.4.0 backoff-1.10.0 json5-0.9.6 jupyterlab-2.2.9 jupyterlab-server-1.2.0 mitosheet-0.1.302 monotonic-1.6 plotly-4.14.3\n"
     ]
    }
   ],
   "source": [
    "!pip install mitosheet"
   ]
  },
  {
   "cell_type": "code",
   "execution_count": null,
   "metadata": {},
   "outputs": [
    {
     "name": "stdout",
     "output_type": "stream",
     "text": [
      "Fail to get yarn configuration. {\"type\":\"warning\",\"data\":\"package.json: No license field\"}\n",
      "{\"type\":\"error\",\"data\":\"An unexpected error occurred: \\\"The \\\\\\\"path\\\\\\\" argument must be of type string. Received [Object: null prototype]\\\".\"}\n",
      "{\"type\":\"info\",\"data\":\"If you think this is a bug, please open a bug report with the information provided in \\\"/Users/geovanni/yarn-error.log\\\".\"}\n",
      "{\"type\":\"info\",\"data\":\"Visit https://yarnpkg.com/en/docs/cli/config for documentation about this command.\"}\n",
      "\n",
      "Fail to get yarn configuration. {\"type\":\"warning\",\"data\":\"package.json: No license field\"}\n",
      "{\"type\":\"error\",\"data\":\"An unexpected error occurred: \\\"The \\\\\\\"path\\\\\\\" argument must be of type string. Received [Object: null prototype]\\\".\"}\n",
      "{\"type\":\"info\",\"data\":\"If you think this is a bug, please open a bug report with the information provided in \\\"/Users/geovanni/yarn-error.log\\\".\"}\n",
      "{\"type\":\"info\",\"data\":\"Visit https://yarnpkg.com/en/docs/cli/config for documentation about this command.\"}\n",
      "\n",
      "Fail to get yarn configuration. {\"type\":\"warning\",\"data\":\"package.json: No license field\"}\n",
      "{\"type\":\"error\",\"data\":\"An unexpected error occurred: \\\"The \\\\\\\"path\\\\\\\" argument must be of type string. Received [Object: null prototype]\\\".\"}\n",
      "{\"type\":\"info\",\"data\":\"If you think this is a bug, please open a bug report with the information provided in \\\"/Users/geovanni/yarn-error.log\\\".\"}\n",
      "{\"type\":\"info\",\"data\":\"Visit https://yarnpkg.com/en/docs/cli/config for documentation about this command.\"}\n",
      "\n",
      "Building jupyterlab assets (build:prod:minimize)\n",
      "The extension \"@jupyterlab/git\" is outdated.\n",
      "\n",
      "/"
     ]
    }
   ],
   "source": [
    "!jupyter labextension install @jupyter-widgets/jupyterlab-manager@2"
   ]
  },
  {
   "cell_type": "code",
   "execution_count": null,
   "metadata": {},
   "outputs": [],
   "source": [
    "# jupyter lab"
   ]
  }
 ],
 "metadata": {
  "kernelspec": {
   "display_name": "Python 3",
   "language": "python",
   "name": "python3"
  },
  "language_info": {
   "codemirror_mode": {
    "name": "ipython",
    "version": 3
   },
   "file_extension": ".py",
   "mimetype": "text/x-python",
   "name": "python",
   "nbconvert_exporter": "python",
   "pygments_lexer": "ipython3",
   "version": "3.6.8"
  }
 },
 "nbformat": 4,
 "nbformat_minor": 2
}
